{
 "cells": [
  {
   "cell_type": "code",
   "execution_count": null,
   "metadata": {},
   "outputs": [],
   "source": []
  },
  {
   "cell_type": "code",
   "execution_count": null,
   "metadata": {},
   "outputs": [],
   "source": [
    "import math\n",
    "import torch\n",
    "def get_embedding(\n",
    "    num_embeddings: int, embedding_dim: int, padding_idx = None\n",
    "):\n",
    "    \"\"\"Build sinusoidal embeddings.\n",
    "\n",
    "    This matches the implementation in tensor2tensor, but differs slightly\n",
    "    from the description in Section 3.5 of \"Attention Is All You Need\".\n",
    "    \"\"\"\n",
    "    half_dim = embedding_dim // 2\n",
    "    emb = math.log(10000) / (half_dim - 1)\n",
    "    emb = torch.exp(torch.arange(half_dim, dtype=torch.float) * -emb)\n",
    "    emb = torch.arange(num_embeddings, dtype=torch.float).unsqueeze(\n",
    "        1\n",
    "    ) * emb.unsqueeze(0)\n",
    "    emb = torch.cat([torch.sin(emb), torch.cos(emb)], dim=1).view(\n",
    "        num_embeddings, -1\n",
    "    )\n",
    "    if embedding_dim % 2 == 1:\n",
    "        # zero pad\n",
    "        emb = torch.cat([emb, torch.zeros(num_embeddings, 1)], dim=1)\n",
    "    if padding_idx is not None:\n",
    "        emb[padding_idx, :] = 0\n",
    "    return emb\n",
    "\n",
    "get_embedding(10, 4)"
   ]
  },
  {
   "cell_type": "markdown",
   "metadata": {},
   "source": [
    "# Sinusoidal Positional Embeddings\n",
    "\n",
    "$$\n",
    "\\begin{align*}\n",
    "\\text{PE}(pos, 2i) &= \\sin\\left(\\frac{pos}{10000^{2i/d_{\\text{model}}}}\\right) \\\\\n",
    "\\text{PE}(pos, 2i+1) &= \\cos\\left(\\frac{pos}{10000^{2i/d_{\\text{model}}}}\\right)\n",
    "\\end{align*}\n",
    "$$"
   ]
  },
  {
   "cell_type": "code",
   "execution_count": 6,
   "metadata": {},
   "outputs": [
    {
     "data": {
      "text/plain": [
       "tensor([[ 0.0000,  1.0000,  0.0000,  1.0000],\n",
       "        [ 0.8415,  0.5403,  0.8415,  0.5403],\n",
       "        [ 0.9093, -0.4161,  0.9093, -0.4161],\n",
       "        [ 0.1411, -0.9900,  0.1411, -0.9900],\n",
       "        [-0.7568, -0.6536, -0.7568, -0.6536],\n",
       "        [-0.9589,  0.2837, -0.9589,  0.2837],\n",
       "        [-0.2794,  0.9602, -0.2794,  0.9602],\n",
       "        [ 0.6570,  0.7539,  0.6570,  0.7539],\n",
       "        [ 0.9894, -0.1455,  0.9894, -0.1455],\n",
       "        [ 0.4121, -0.9111,  0.4121, -0.9111]])"
      ]
     },
     "execution_count": 6,
     "metadata": {},
     "output_type": "execute_result"
    }
   ],
   "source": [
    "import torch\n",
    "import math\n",
    "def sinusoidal_position_embeddings(num_embeddings, embedding_dim, theta=10000):\n",
    "    sin_size = embedding_dim // 2 + embedding_dim%2\n",
    "    cos_size = embedding_dim // 2\n",
    "    embedding = torch.zeros(num_embeddings, embedding_dim)\n",
    "    embedding_positions = torch.arange(0, num_embeddings).float()\n",
    "    div_term = torch.exp(torch.arange(0, sin_size, 2).float() * -(math.log(theta) / sin_size))\n",
    "    embedding[:, 0::2] = torch.sin(embedding_positions.unsqueeze(1) * div_term)\n",
    "    embedding[:, 1::2] = torch.cos(embedding_positions.unsqueeze(1) * div_term)[:,:cos_size]\n",
    "    return embedding\n",
    "sinusoidal_position_embeddings(10, 4)"
   ]
  },
  {
   "cell_type": "code",
   "execution_count": 7,
   "metadata": {},
   "outputs": [
    {
     "data": {
      "text/plain": [
       "(24575, 24576)"
      ]
     },
     "execution_count": 7,
     "metadata": {},
     "output_type": "execute_result"
    }
   ],
   "source": [
    "24575, 24*1024"
   ]
  },
  {
   "cell_type": "code",
   "execution_count": 8,
   "metadata": {},
   "outputs": [
    {
     "data": {
      "text/plain": [
       "'59,473,920'"
      ]
     },
     "execution_count": 8,
     "metadata": {},
     "output_type": "execute_result"
    }
   ],
   "source": [
    "f'{(21001-20891)*(1024*2*24*11):,}'"
   ]
  },
  {
   "cell_type": "code",
   "execution_count": null,
   "metadata": {},
   "outputs": [
    {
     "data": {
      "text/plain": [
       "(118.216704, '21,670,400.0')"
      ]
     },
     "execution_count": 5,
     "metadata": {},
     "output_type": "execute_result"
    }
   ],
   "source": [
    "11_821_670_400/100_000_000, f'{.216704*100_000_000:,}'"
   ]
  },
  {
   "cell_type": "code",
   "execution_count": null,
   "metadata": {},
   "outputs": [],
   "source": [
    "# PE(pos,2i)= sin(pos/100002i/dmodel )\n",
    "# PE(pos,2i+1)= cos(pos/100002i/dmodel )"
   ]
  },
  {
   "cell_type": "code",
   "execution_count": null,
   "metadata": {},
   "outputs": [],
   "source": [
    "# Sinusoidal Positional Embeddings in markdown\n",
    "# $$\n",
    "# \\begin{align*}\n",
    "# \\text{PE}(pos, 2i) &= \\sin\\left(\\frac{pos}{10000^{2i/d_{\\text{model}}}}\\right) \\\\\n",
    "# \\text{PE}(pos, 2i+1) &= \\cos\\left(\\frac{pos}{10000^{2i/d_{\\text{model}}}}\\right)\n",
    "# \\end{align*}\n",
    "# $$"
   ]
  }
 ],
 "metadata": {
  "kernelspec": {
   "display_name": "gpt",
   "language": "python",
   "name": "python3"
  },
  "language_info": {
   "codemirror_mode": {
    "name": "ipython",
    "version": 3
   },
   "file_extension": ".py",
   "mimetype": "text/x-python",
   "name": "python",
   "nbconvert_exporter": "python",
   "pygments_lexer": "ipython3",
   "version": "3.13.1"
  }
 },
 "nbformat": 4,
 "nbformat_minor": 2
}
