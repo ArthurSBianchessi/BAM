{
 "cells": [
  {
   "cell_type": "code",
   "execution_count": 2,
   "metadata": {},
   "outputs": [],
   "source": [
    "# from models.tokenizer import Tokenizer\n",
    "from models.model import *"
   ]
  },
  {
   "cell_type": "code",
   "execution_count": 3,
   "metadata": {},
   "outputs": [],
   "source": [
    "import torch\n",
    "import os"
   ]
  },
  {
   "cell_type": "code",
   "execution_count": 4,
   "metadata": {},
   "outputs": [
    {
     "data": {
      "text/plain": [
       "ModelArgs(dim=512, n_layers=6, n_heads=16, n_kv_heads=None, vocab_size=32768, multiple_of=1, ffn_dim_multiplier=2, norm_eps=1e-05, rope_theta=500000, max_batch_size=32, max_seq_len=2048)"
      ]
     },
     "execution_count": 4,
     "metadata": {},
     "output_type": "execute_result"
    }
   ],
   "source": [
    "# ModelArgs(dim=4096, n_layers=32, n_heads=32, n_kv_heads=None, vocab_size=32000, multiple_of=256, ffn_dim_multiplier=None, norm_eps=1e-05, rope_theta=500000, max_batch_size=32, max_seq_len=2048)\n",
    "args = ModelArgs(\n",
    "    vocab_size=32768,\n",
    "    dim=512,\n",
    "    n_layers=6,\n",
    "    # dim=1024,\n",
    "    # n_layers=16,\n",
    "    # dim=2048,\n",
    "    # n_layers=24,\n",
    "    n_heads=16,\n",
    "    ffn_dim_multiplier=2,\n",
    ")\n",
    "model = Transformer(args)\n",
    "args"
   ]
  },
  {
   "cell_type": "code",
   "execution_count": 5,
   "metadata": {},
   "outputs": [
    {
     "name": "stdout",
     "output_type": "stream",
     "text": [
      "Model size:     130,050,048 bytes\n",
      "Embedding size: 67,108,864 bytes\n",
      "Total size:     197,158,912 bytes\n",
      "\n",
      "Model params:     32,512,512\n",
      "Embedding params: 16,777,216\n",
      "Total params:     49,289,728\n"
     ]
    }
   ],
   "source": [
    "total_bytes = sum(p.numel() * p.element_size() for p in model.parameters())\n",
    "# model.tok_embeddings.weight.nbytes\n",
    "embedding_bytes = model.tok_embeddings.weight.numel() * model.tok_embeddings.weight.element_size()\n",
    "model_bytes = total_bytes - embedding_bytes\n",
    "# total_bytes, embedding_bytes,\n",
    "# f'{total_bytes:,}', '175,138,816'\n",
    "\n",
    "print(f'Model size:     {model_bytes:,} bytes')\n",
    "print(f'Embedding size: {embedding_bytes:,} bytes')\n",
    "print(f'Total size:     {total_bytes:,} bytes')\n",
    "print()\n",
    "\n",
    "total_params = sum(p.numel() for p in model.parameters())\n",
    "embedding_params = model.tok_embeddings.weight.numel()\n",
    "model_params = total_params - embedding_params\n",
    "\n",
    "print(f'Model params:     {model_params:,}')\n",
    "print(f'Embedding params: {embedding_params:,}')\n",
    "print(f'Total params:     {total_params:,}')"
   ]
  },
  {
   "cell_type": "code",
   "execution_count": null,
   "metadata": {},
   "outputs": [
    {
     "name": "stdout",
     "output_type": "stream",
     "text": [
      "Decay params:      49,283,072\n",
      "Nodecay params:         6,656\n"
     ]
    }
   ],
   "source": [
    "param_dict = {pn: p for pn, p in model.named_parameters()}\n",
    "param_dict = {pn: p for pn, p in param_dict.items() if p.requires_grad}\n",
    "decay_params = [p for n, p in param_dict.items() if p.dim() >= 2]\n",
    "nodecay_params = [p for n, p in param_dict.items() if p.dim() < 2]\n",
    "\n",
    "print(f'Decay params:   {sum(p.numel() for p in decay_params):13,}')\n",
    "print(f'Nodecay params: {sum(p.numel() for p in nodecay_params):13,}')"
   ]
  },
  {
   "cell_type": "code",
   "execution_count": 8,
   "metadata": {},
   "outputs": [
    {
     "name": "stdout",
     "output_type": "stream",
     "text": [
      "layers.0.attention_norm.weight                                                           2,048\n",
      "layers.0.ffn_norm.weight                                                                 2,048\n",
      "layers.1.attention_norm.weight                                                           2,048\n",
      "layers.1.ffn_norm.weight                                                                 2,048\n",
      "layers.2.attention_norm.weight                                                           2,048\n",
      "layers.2.ffn_norm.weight                                                                 2,048\n",
      "layers.3.attention_norm.weight                                                           2,048\n",
      "layers.3.ffn_norm.weight                                                                 2,048\n",
      "layers.4.attention_norm.weight                                                           2,048\n",
      "layers.4.ffn_norm.weight                                                                 2,048\n",
      "layers.5.attention_norm.weight                                                           2,048\n",
      "layers.5.ffn_norm.weight                                                                 2,048\n",
      "layers.6.attention_norm.weight                                                           2,048\n",
      "layers.6.ffn_norm.weight                                                                 2,048\n",
      "layers.7.attention_norm.weight                                                           2,048\n",
      "layers.7.ffn_norm.weight                                                                 2,048\n",
      "layers.8.attention_norm.weight                                                           2,048\n",
      "layers.8.ffn_norm.weight                                                                 2,048\n",
      "layers.9.attention_norm.weight                                                           2,048\n",
      "layers.9.ffn_norm.weight                                                                 2,048\n",
      "layers.10.attention_norm.weight                                                          2,048\n",
      "layers.10.ffn_norm.weight                                                                2,048\n",
      "layers.11.attention_norm.weight                                                          2,048\n",
      "layers.11.ffn_norm.weight                                                                2,048\n",
      "layers.12.attention_norm.weight                                                          2,048\n",
      "layers.12.ffn_norm.weight                                                                2,048\n",
      "layers.13.attention_norm.weight                                                          2,048\n",
      "layers.13.ffn_norm.weight                                                                2,048\n",
      "layers.14.attention_norm.weight                                                          2,048\n",
      "layers.14.ffn_norm.weight                                                                2,048\n",
      "layers.15.attention_norm.weight                                                          2,048\n",
      "layers.15.ffn_norm.weight                                                                2,048\n",
      "layers.16.attention_norm.weight                                                          2,048\n",
      "layers.16.ffn_norm.weight                                                                2,048\n",
      "layers.17.attention_norm.weight                                                          2,048\n",
      "layers.17.ffn_norm.weight                                                                2,048\n",
      "layers.18.attention_norm.weight                                                          2,048\n",
      "layers.18.ffn_norm.weight                                                                2,048\n",
      "layers.19.attention_norm.weight                                                          2,048\n",
      "layers.19.ffn_norm.weight                                                                2,048\n",
      "layers.20.attention_norm.weight                                                          2,048\n",
      "layers.20.ffn_norm.weight                                                                2,048\n",
      "layers.21.attention_norm.weight                                                          2,048\n",
      "layers.21.ffn_norm.weight                                                                2,048\n",
      "layers.22.attention_norm.weight                                                          2,048\n",
      "layers.22.ffn_norm.weight                                                                2,048\n",
      "layers.23.attention_norm.weight                                                          2,048\n",
      "layers.23.ffn_norm.weight                                                                2,048\n",
      "norm.weight                                                                              2,048\n"
     ]
    }
   ],
   "source": [
    "for n, p in param_dict.items():\n",
    "    if p.dim() < 2:\n",
    "            print(f'{n:80} {p.numel():13,}')"
   ]
  },
  {
   "cell_type": "code",
   "execution_count": 6,
   "metadata": {},
   "outputs": [
    {
     "name": "stdout",
     "output_type": "stream",
     "text": [
      "torch.Size([2, 512, 1024]) tensor(0)\n",
      "torch.Size([2, 512, 1024]) tensor(0)\n",
      "torch.Size([2, 512, 1024]) tensor(0)\n",
      "torch.Size([2, 512, 1024]) tensor(0)\n",
      "torch.Size([2, 512, 1024]) tensor(0)\n",
      "torch.Size([2, 512, 1024]) tensor(0)\n",
      "torch.Size([2, 512, 1024]) tensor(0)\n",
      "torch.Size([2, 512, 1024]) tensor(0)\n",
      "torch.Size([2, 512, 1024]) tensor(0)\n",
      "torch.Size([2, 512, 1024]) tensor(0)\n",
      "torch.Size([2, 512, 1024]) tensor(0)\n",
      "torch.Size([2, 512, 1024]) tensor(0)\n",
      "torch.Size([2, 512, 1024]) tensor(0)\n",
      "torch.Size([2, 512, 1024]) tensor(0)\n",
      "torch.Size([2, 512, 1024]) tensor(0)\n",
      "torch.Size([2, 512, 1024]) tensor(0)\n",
      "torch.Size([2, 512, 1024]) tensor(0)\n",
      "torch.Size([2, 512, 1024]) tensor(0)\n",
      "torch.Size([2, 512, 1024]) tensor(0)\n",
      "torch.Size([2, 512, 1024]) tensor(0)\n",
      "torch.Size([2, 512, 1024]) tensor(0)\n",
      "torch.Size([2, 512, 1024]) tensor(0)\n",
      "torch.Size([2, 512, 1024]) tensor(0)\n",
      "torch.Size([2, 512, 1024]) tensor(0)\n",
      "torch.Size([2, 512, 1024]) tensor(0)\n",
      "torch.Size([2, 512, 1024]) tensor(0)\n",
      "torch.Size([2, 512, 1024]) tensor(0)\n",
      "torch.Size([2, 512, 1024]) tensor(0)\n",
      "torch.Size([2, 512, 1024]) tensor(0)\n",
      "torch.Size([2, 512, 1024]) tensor(0)\n",
      "torch.Size([2, 512, 1024]) tensor(0)\n",
      "torch.Size([2, 512, 1024]) tensor(0)\n",
      "torch.Size([2, 512, 1024]) tensor(0)\n",
      "torch.Size([2, 512, 1024]) tensor(0)\n",
      "torch.Size([2, 512, 1024]) tensor(0)\n",
      "torch.Size([2, 512, 1024]) tensor(0)\n",
      "torch.Size([2, 512, 1024]) tensor(0)\n",
      "torch.Size([2, 512, 1024]) tensor(0)\n",
      "torch.Size([2, 512, 1024]) tensor(0)\n",
      "torch.Size([2, 512, 1024]) tensor(0)\n",
      "torch.Size([2, 512, 1024]) tensor(0)\n",
      "torch.Size([2, 512, 1024]) tensor(0)\n",
      "torch.Size([2, 512, 1024]) tensor(0)\n",
      "torch.Size([2, 512, 1024]) tensor(0)\n",
      "torch.Size([2, 512, 1024]) tensor(0)\n",
      "torch.Size([2, 512, 1024]) tensor(0)\n",
      "torch.Size([2, 512, 1024]) tensor(0)\n",
      "torch.Size([2, 512, 1024]) tensor(0)\n"
     ]
    },
    {
     "data": {
      "text/plain": [
       "torch.Size([2, 512, 32768])"
      ]
     },
     "execution_count": 6,
     "metadata": {},
     "output_type": "execute_result"
    }
   ],
   "source": [
    "model(torch.randint(0, 32000, (2, 512)), start_pos=0).shape"
   ]
  },
  {
   "cell_type": "code",
   "execution_count": 7,
   "metadata": {},
   "outputs": [
    {
     "data": {
      "text/plain": [
       "FeedForward(\n",
       "  (w1): Linear(in_features=1024, out_features=2048, bias=False)\n",
       "  (w2): Linear(in_features=2048, out_features=1024, bias=False)\n",
       "  (w3): Linear(in_features=1024, out_features=2048, bias=False)\n",
       ")"
      ]
     },
     "execution_count": 7,
     "metadata": {},
     "output_type": "execute_result"
    }
   ],
   "source": [
    "model.layers[0].feed_forward"
   ]
  },
  {
   "cell_type": "markdown",
   "metadata": {},
   "source": [
    "# Del later"
   ]
  },
  {
   "cell_type": "code",
   "execution_count": 10,
   "metadata": {},
   "outputs": [
    {
     "ename": "Exception",
     "evalue": "",
     "output_type": "error",
     "traceback": [
      "\u001b[0;31m---------------------------------------------------------------------------\u001b[0m",
      "\u001b[0;31mException\u001b[0m                                 Traceback (most recent call last)",
      "Cell \u001b[0;32mIn[10], line 1\u001b[0m\n\u001b[0;32m----> 1\u001b[0m \u001b[38;5;28;01mraise\u001b[39;00m \u001b[38;5;167;01mException\u001b[39;00m\n",
      "\u001b[0;31mException\u001b[0m: "
     ]
    }
   ],
   "source": [
    "raise Exception"
   ]
  },
  {
   "cell_type": "code",
   "execution_count": null,
   "metadata": {},
   "outputs": [],
   "source": [
    "import torch\n",
    "import torch.nn as nn\n",
    "\n",
    "class Model(nn.Module):\n",
    "    def __init__(self):\n",
    "        super().__init__()\n",
    "        self.l1 = nn.Linear(512, 512)\n",
    "        # self.t = torch.ones(512, 512)\n",
    "        self.register_buffer('t', torch.ones(512, 512), persistent=False)\n",
    "        \n",
    "    def forward(self, x):\n",
    "        x = self.l1(x)\n",
    "        x = torch.matmul(x, self.t)\n",
    "        return x"
   ]
  },
  {
   "cell_type": "code",
   "execution_count": null,
   "metadata": {},
   "outputs": [
    {
     "name": "stdout",
     "output_type": "stream",
     "text": [
      "cpu cpu\n",
      "cuda:0 cuda:0\n",
      "odict_keys(['l1.weight', 'l1.bias'])\n"
     ]
    }
   ],
   "source": [
    "model = Model()\n",
    "print(model.t.device, model.l1.weight.device)\n",
    "model = model.to('cuda:0')\n",
    "print(model.t.device, model.l1.weight.device)\n",
    "print(model.state_dict().keys())\n"
   ]
  },
  {
   "cell_type": "code",
   "execution_count": null,
   "metadata": {},
   "outputs": [],
   "source": [
    "from transformers import AutoTokenizer\n",
    "\n",
    "mistral"
   ]
  },
  {
   "cell_type": "code",
   "execution_count": null,
   "metadata": {},
   "outputs": [],
   "source": [
    "# os.environ['RANK'] = '0'\n",
    "# os.environ['WORLD_SIZE'] = '1'\n",
    "# os.environ['MASTER_ADDR'] = 'localhost'\n",
    "# os.environ['MASTER_PORT'] = '29500'\n",
    "# torch.distributed.init_process_group()\n",
    "\n",
    "# from fairscale.nn.model_parallel.initialize import initialize_model_parallel\n",
    "# initialize_model_parallel(1)"
   ]
  },
  {
   "cell_type": "code",
   "execution_count": 1,
   "metadata": {},
   "outputs": [],
   "source": [
    "import tiktoken\n",
    "enc = tiktoken.get_encoding(\"gpt2\")"
   ]
  },
  {
   "cell_type": "code",
   "execution_count": 3,
   "metadata": {},
   "outputs": [
    {
     "data": {
      "text/plain": [
       "50257"
      ]
     },
     "execution_count": 3,
     "metadata": {},
     "output_type": "execute_result"
    }
   ],
   "source": [
    "enc.n_vocab"
   ]
  }
 ],
 "metadata": {
  "kernelspec": {
   "display_name": "gpt",
   "language": "python",
   "name": "python3"
  },
  "language_info": {
   "codemirror_mode": {
    "name": "ipython",
    "version": 3
   },
   "file_extension": ".py",
   "mimetype": "text/x-python",
   "name": "python",
   "nbconvert_exporter": "python",
   "pygments_lexer": "ipython3",
   "version": "3.13.1"
  }
 },
 "nbformat": 4,
 "nbformat_minor": 2
}
